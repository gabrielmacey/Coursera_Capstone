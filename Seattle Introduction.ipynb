{
    "cells": [
        {
            "cell_type": "markdown",
            "metadata": {
                "collapsed": true
            },
            "source": "# Introduction to Seattle Road Safety\n\n## Describing Seattle\n### The city of Seattle is a seaport city located on the west coast in Washington, USA. Seattle's location on the coastline means the city will sometimes face big storms and windy weather. Seattle has an average of 294 cloudy days throughout the year. With this being said, Seattle has attracted many people from around the world. With evergreen forests in abundance, Seattle is well known for its logging industry. This increase in population has led to an increase in job opportunities and population growth. Seattle now boasts itself as one of the top fifteen most populus cities in the United States. With various attractions such as the Spaceneedle and the home of Pike Place Markets(Starbucks), Seattle has many people who traverse and therefore has many possibilities for various accidents.\n\n## How does weather impact driving?\n### Various types of weather have multiple impacts on the safety of driving conditions. Wind speed is one factor that can have an impact on driving conditions. With slightly increased wind speed, vehicles may face downed trees or other debree causing hazards on their roadways. When wind speed is extreme, vehicles can be completely lifted off of the road or have visibilty issues. Both of which could have a life-threatening impact on its drivers. Two other factors that cause visibilty issues are fog and rain. In extreme downpour, the visibilty of the driver is impeded and the conditions of the road itslef can become unsafe. Roads submerged in water can be deadly to those traveling through due to hydroplaning. Hydroplaning is when a vehicle is spun or drifts out of control due to the fact that the tires are not longer planted on the road, but they are sliding across the water's surface. These are only a few of the many ways that weather can cause major impacts on the safety of those traveling on the roads.\n\n\n## How can we address the issue of Seattle weather's correlation to car accidents and find solutions to the problem?\n### Seattle's location of being a seaport city means that they face fog, rain, and wind. Seattle civilians experience a lot of cloudy/rainy days and foggy mornings. These weather conditions can impact the safety of drivers. My target audience is the human beings who transverse Seattle. The audience cares about how certain weather may impact their driving ability because their life and the lives of loved ones could be changed forever by nature. I will look into accident data from Seattle since 2004 and try to understand the correlation between certain weather conditions and the severity of accidents. My end goal is to come up with a system of warning potential drivers of the risks they are taking based on the type and severity of the weather during their traveling time."
        },
        {
            "cell_type": "markdown",
            "metadata": {},
            "source": "#### "
        }
    ],
    "metadata": {
        "kernelspec": {
            "display_name": "Python 3.6",
            "language": "python",
            "name": "python3"
        },
        "language_info": {
            "codemirror_mode": {
                "name": "ipython",
                "version": 3
            },
            "file_extension": ".py",
            "mimetype": "text/x-python",
            "name": "python",
            "nbconvert_exporter": "python",
            "pygments_lexer": "ipython3",
            "version": "3.6.9"
        }
    },
    "nbformat": 4,
    "nbformat_minor": 1
}
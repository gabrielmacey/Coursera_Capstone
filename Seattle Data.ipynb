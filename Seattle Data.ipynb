{
    "cells": [
        {
            "cell_type": "markdown",
            "metadata": {},
            "source": "## Data for Seattle Transportation Report\n\n#### The data used here will be used to find correltation strength between different type of road conditions and severity of accidents. Severity of accidents will include points such as fatalities, the number of people involved, the type of injuries to the passengers, how many vehicles were involved and a few others. Natural factors including fallen objects, weather conditions such as wind, rain, fog, and snow, and time of day will also be used in finding correlation to the severity of accidents. This is all done with the purpose of being able to let drivers know the possibility and severity of accidents under certain weather conditions."
        },
        {
            "cell_type": "markdown",
            "metadata": {},
            "source": "X,Y- The coordinates of the accident.\n\nLOCATION- The location of the accident.\n\nSEVERITYCODE- A scale of 1-5 about how severe the accident is (with 5 being the most severe).\n\nSEVERITYDESC- A description of the the severity of the accident.\n\nCOLLISIONTYPE- Different types of collisions such as parked cars, rear ends, angles, etc.\n\nPERSONCOUNT- The amount of people involved in the accident.\n\nPEDCOUNT- The number of pedestrians involved in the accident.\n\nPEDCYCLCOUNT- The number of cyclists involved in the accident.\n\nVEHCOUNT- The number of vehicles involved in the accident.\n\nINJURIES- The number of injuries involved in the accident.\n\nSERIOUSINJURIES- The number of serious injuries involved in the accident.\n\nFATALITIES- The number of deaths that occurred because of the accident.\n\nINCDTTM- The date and time of the accident.\n\nJUNCTIONTYPE- The type of junction where the accident occurred (intersection, drive-way, etc).\n\nSDOT_COLDESC- Seattle's description about the accident.\n\nUNDERINFL- Was the driver under the influence of drugs or alcohol?\n\nWEATHER- What was the weather like when the accident occurred?\n\nROADCOND- What was the condition of the road when the accident happened?\n\nLIGHTCOND- What time of day was it and how much light was there out?\n\nSPEEDING- Was the driver speeding?\n\nHITPARKEDCAR- Did the driver of the moving vehicle hit a parked car?"
        },
        {
            "cell_type": "code",
            "execution_count": 2,
            "metadata": {},
            "outputs": [],
            "source": "import pandas as pd\nimport numpy as np\nimport matplotlib as mp\nimport seaborn as sns\nimport matplotlib.pyplot as plt\n%matplotlib inline"
        },
        {
            "cell_type": "code",
            "execution_count": 28,
            "metadata": {},
            "outputs": [
                {
                    "data": {
                        "text/html": "<div>\n<style scoped>\n    .dataframe tbody tr th:only-of-type {\n        vertical-align: middle;\n    }\n\n    .dataframe tbody tr th {\n        vertical-align: top;\n    }\n\n    .dataframe thead th {\n        text-align: right;\n    }\n</style>\n<table border=\"1\" class=\"dataframe\">\n  <thead>\n    <tr style=\"text-align: right;\">\n      <th></th>\n      <th>X</th>\n      <th>Y</th>\n      <th>LOCATION</th>\n      <th>SEVERITYCODE</th>\n      <th>SEVERITYDESC</th>\n      <th>COLLISIONTYPE</th>\n      <th>PERSONCOUNT</th>\n      <th>PEDCOUNT</th>\n      <th>PEDCYLCOUNT</th>\n      <th>VEHCOUNT</th>\n      <th>INJURIES</th>\n      <th>SERIOUSINJURIES</th>\n      <th>FATALITIES</th>\n      <th>INCDTTM</th>\n      <th>JUNCTIONTYPE</th>\n      <th>SDOT_COLDESC</th>\n      <th>UNDERINFL</th>\n      <th>WEATHER</th>\n      <th>ROADCOND</th>\n      <th>LIGHTCOND</th>\n      <th>SPEEDING</th>\n      <th>HITPARKEDCAR</th>\n    </tr>\n  </thead>\n  <tbody>\n    <tr>\n      <th>0</th>\n      <td>-122.344896</td>\n      <td>47.717173</td>\n      <td>AURORA AVE N BETWEEN N 117TH PL AND N 125TH ST</td>\n      <td>2</td>\n      <td>Injury Collision</td>\n      <td>Cycles</td>\n      <td>2</td>\n      <td>0</td>\n      <td>1</td>\n      <td>1</td>\n      <td>1</td>\n      <td>0</td>\n      <td>0</td>\n      <td>3/14/2013 5:30:00 PM</td>\n      <td>Driveway Junction</td>\n      <td>MOTOR VEHICLE STRUCK PEDALCYCLIST, FRONT END A...</td>\n      <td>N</td>\n      <td>Clear</td>\n      <td>Dry</td>\n      <td>Daylight</td>\n      <td>NaN</td>\n      <td>N</td>\n    </tr>\n    <tr>\n      <th>1</th>\n      <td>-122.376467</td>\n      <td>47.543774</td>\n      <td>35TH AVE SW BETWEEN SW MORGAN ST AND SW HOLLY ST</td>\n      <td>2</td>\n      <td>Injury Collision</td>\n      <td>Pedestrian</td>\n      <td>7</td>\n      <td>1</td>\n      <td>0</td>\n      <td>1</td>\n      <td>1</td>\n      <td>0</td>\n      <td>0</td>\n      <td>1/15/2006 5:35:00 PM</td>\n      <td>Mid-Block (not related to intersection)</td>\n      <td>MOTOR VEHCILE STRUCK PEDESTRIAN</td>\n      <td>0</td>\n      <td>Overcast</td>\n      <td>Dry</td>\n      <td>Dark - Street Lights On</td>\n      <td>NaN</td>\n      <td>N</td>\n    </tr>\n    <tr>\n      <th>2</th>\n      <td>-122.360735</td>\n      <td>47.701487</td>\n      <td>3RD AVE NW AND NW 100TH ST</td>\n      <td>1</td>\n      <td>Property Damage Only Collision</td>\n      <td>Angles</td>\n      <td>2</td>\n      <td>0</td>\n      <td>0</td>\n      <td>2</td>\n      <td>0</td>\n      <td>0</td>\n      <td>0</td>\n      <td>9/9/2019 3:32:00 PM</td>\n      <td>At Intersection (intersection related)</td>\n      <td>MOTOR VEHICLE STRUCK MOTOR VEHICLE, REAR END</td>\n      <td>N</td>\n      <td>Overcast</td>\n      <td>Wet</td>\n      <td>Daylight</td>\n      <td>NaN</td>\n      <td>N</td>\n    </tr>\n    <tr>\n      <th>3</th>\n      <td>-122.297415</td>\n      <td>47.599233</td>\n      <td>M L KING JR WAY S AND S JACKSON ST</td>\n      <td>1</td>\n      <td>Property Damage Only Collision</td>\n      <td>NaN</td>\n      <td>2</td>\n      <td>0</td>\n      <td>0</td>\n      <td>0</td>\n      <td>0</td>\n      <td>0</td>\n      <td>0</td>\n      <td>12/19/2019</td>\n      <td>At Intersection (intersection related)</td>\n      <td>MOTOR VEHICLE STRUCK MOTOR VEHICLE, REAR END</td>\n      <td>NaN</td>\n      <td>NaN</td>\n      <td>NaN</td>\n      <td>NaN</td>\n      <td>NaN</td>\n      <td>N</td>\n    </tr>\n    <tr>\n      <th>4</th>\n      <td>-122.368001</td>\n      <td>47.653585</td>\n      <td>W EWING ST BETWEEN 6TH AVE W AND W EWING PL</td>\n      <td>0</td>\n      <td>Unknown</td>\n      <td>NaN</td>\n      <td>1</td>\n      <td>0</td>\n      <td>0</td>\n      <td>0</td>\n      <td>0</td>\n      <td>0</td>\n      <td>0</td>\n      <td>3/27/2013</td>\n      <td>Mid-Block (not related to intersection)</td>\n      <td>NOT ENOUGH INFORMATION / NOT APPLICABLE</td>\n      <td>NaN</td>\n      <td>NaN</td>\n      <td>NaN</td>\n      <td>NaN</td>\n      <td>NaN</td>\n      <td>N</td>\n    </tr>\n  </tbody>\n</table>\n</div>",
                        "text/plain": "            X          Y                                          LOCATION  \\\n0 -122.344896  47.717173    AURORA AVE N BETWEEN N 117TH PL AND N 125TH ST   \n1 -122.376467  47.543774  35TH AVE SW BETWEEN SW MORGAN ST AND SW HOLLY ST   \n2 -122.360735  47.701487                        3RD AVE NW AND NW 100TH ST   \n3 -122.297415  47.599233                M L KING JR WAY S AND S JACKSON ST   \n4 -122.368001  47.653585       W EWING ST BETWEEN 6TH AVE W AND W EWING PL   \n\n  SEVERITYCODE                    SEVERITYDESC COLLISIONTYPE  PERSONCOUNT  \\\n0            2                Injury Collision        Cycles            2   \n1            2                Injury Collision    Pedestrian            7   \n2            1  Property Damage Only Collision        Angles            2   \n3            1  Property Damage Only Collision           NaN            2   \n4            0                         Unknown           NaN            1   \n\n   PEDCOUNT  PEDCYLCOUNT  VEHCOUNT  INJURIES  SERIOUSINJURIES  FATALITIES  \\\n0         0            1         1         1                0           0   \n1         1            0         1         1                0           0   \n2         0            0         2         0                0           0   \n3         0            0         0         0                0           0   \n4         0            0         0         0                0           0   \n\n                INCDTTM                             JUNCTIONTYPE  \\\n0  3/14/2013 5:30:00 PM                        Driveway Junction   \n1  1/15/2006 5:35:00 PM  Mid-Block (not related to intersection)   \n2   9/9/2019 3:32:00 PM   At Intersection (intersection related)   \n3            12/19/2019   At Intersection (intersection related)   \n4             3/27/2013  Mid-Block (not related to intersection)   \n\n                                        SDOT_COLDESC UNDERINFL   WEATHER  \\\n0  MOTOR VEHICLE STRUCK PEDALCYCLIST, FRONT END A...         N     Clear   \n1                    MOTOR VEHCILE STRUCK PEDESTRIAN         0  Overcast   \n2       MOTOR VEHICLE STRUCK MOTOR VEHICLE, REAR END         N  Overcast   \n3       MOTOR VEHICLE STRUCK MOTOR VEHICLE, REAR END       NaN       NaN   \n4            NOT ENOUGH INFORMATION / NOT APPLICABLE       NaN       NaN   \n\n  ROADCOND                LIGHTCOND SPEEDING HITPARKEDCAR  \n0      Dry                 Daylight      NaN            N  \n1      Dry  Dark - Street Lights On      NaN            N  \n2      Wet                 Daylight      NaN            N  \n3      NaN                      NaN      NaN            N  \n4      NaN                      NaN      NaN            N  "
                    },
                    "execution_count": 28,
                    "metadata": {},
                    "output_type": "execute_result"
                }
            ],
            "source": "df = pd.read_csv(\"http://data-seattlecitygis.opendata.arcgis.com/datasets/5b5c745e0f1f48e7a53acec63a0022ab_0.csv\")\npd.set_option('display.max_columns', None)\ndf.drop(['STATUS','OBJECTID','INCKEY','INCDATE','COLDETKEY','REPORTNO','ADDRTYPE','INTKEY','EXCEPTRSNCODE','EXCEPTRSNDESC','SDOT_COLCODE','ST_COLCODE','INATTENTIONIND','SDOTCOLNUM','PEDROWNOTGRNT','SEGLANEKEY','CROSSWALKKEY','ST_COLDESC'], axis=1, inplace=True)\ndf.head()"
        },
        {
            "cell_type": "code",
            "execution_count": 29,
            "metadata": {},
            "outputs": [
                {
                    "name": "stdout",
                    "output_type": "stream",
                    "text": "Total number of Collisions: 221525\nTotal number of Features: 22\n"
                }
            ],
            "source": "print('Total number of Collisions:', df.shape[0])\nprint('Total number of Features:', df.shape[1])"
        },
        {
            "cell_type": "code",
            "execution_count": null,
            "metadata": {},
            "outputs": [],
            "source": ""
        }
    ],
    "metadata": {
        "kernelspec": {
            "display_name": "Python 3.6",
            "language": "python",
            "name": "python3"
        },
        "language_info": {
            "codemirror_mode": {
                "name": "ipython",
                "version": 3
            },
            "file_extension": ".py",
            "mimetype": "text/x-python",
            "name": "python",
            "nbconvert_exporter": "python",
            "pygments_lexer": "ipython3",
            "version": "3.6.9"
        }
    },
    "nbformat": 4,
    "nbformat_minor": 1
}